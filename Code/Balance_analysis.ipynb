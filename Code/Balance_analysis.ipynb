{
 "cells": [
  {
   "cell_type": "markdown",
   "id": "5608721d",
   "metadata": {},
   "source": [
    "# Vehicle Population Prediction\n",
    "This notebook processes vehicle registration data from 2019 to 2024 to predict the vehicle population for 2025. Key steps include data preprocessing, feature engineering, handling missing values, and balancing data for modeling.\n",
    "\n",
    "## Data Loading and Initial Exploration\n",
    "We begin by loading the dataset and performing initial exploratory data analysis (EDA)."
   ]
  },
  {
   "cell_type": "code",
   "execution_count": null,
   "id": "017ea883",
   "metadata": {},
   "outputs": [],
   "source": [
    "\n",
    "import matplotlib.pyplot as plt\n",
    "import numpy as np\n",
    "import pandas as pd\n",
    "import seaborn as sns\n",
    "\n",
    "from sklearn.impute import KNNImputer\n",
    "from imblearn.over_sampling import SMOTE\n",
    "from sklearn.preprocessing import StandardScaler\n",
    "\n",
    "# Load dataset\n",
    "data = pd.read_csv('training.csv')\n",
    "\n",
    "# Load testing dataset (if needed)\n",
    "# data = pd.read_csv('scoring.csv')\n",
    "\n",
    "# Display column names\n",
    "data.columns\n",
    "\n",
    "# Display the first few rows of the dataset\n",
    "data.head()\n",
    "\n",
    "# Count occurrences of values in 'Electric Mile Range'\n",
    "data['Electric Mile Range'].value_counts()\n",
    "\n",
    "# Display dataset information (data types, missing values, etc.)\n",
    "data.info()\n"
   ]
  },
  {
   "cell_type": "markdown",
   "id": "d91b0cff",
   "metadata": {},
   "source": [
    "## Data Cleaning\n",
    "We replace unknown, not applicable, and empty values with `NaN` for easier handling."
   ]
  },
  {
   "cell_type": "code",
   "execution_count": null,
   "id": "415ef95a",
   "metadata": {},
   "outputs": [],
   "source": [
    "\n",
    "# Convert 'Unknown', 'Not Applicable', and empty data to NaN\n",
    "for col in data.columns:\n",
    "  data.loc[(data[col].isna()) | (data[col] == 'Unknown') | (data[col] == 'Not Applicable'), col] = np.NaN\n",
    "\n",
    "# Calculate the percentage of missing values for each column\n",
    "missing_percentage = data.isnull().sum() * 100 / len(data)\n",
    "missing_percentage = missing_percentage.rename('Missing Percentage (%)')\n",
    "missing_percentage.sort_values(ascending=False)\n"
   ]
  },
  {
   "cell_type": "markdown",
   "id": "8779d874",
   "metadata": {},
   "source": [
    "## Splitting Data by Year\n",
    "The dataset is divided into subsets based on the registration year (2019-2024)."
   ]
  },
  {
   "cell_type": "code",
   "execution_count": null,
   "id": "417a9bc8",
   "metadata": {},
   "outputs": [],
   "source": [
    "\n",
    "# Divide the data based on the 'Date' column\n",
    "data_dict = {}\n",
    "for year in range(2019, 2024):\n",
    "  data_name = f\"data_{year}\"\n",
    "  data_dict[data_name] = data[data['Date'] == year]\n",
    "\n",
    "# Examine the proportion of missing values across years\n",
    "for year in range(2019, 2024):\n",
    "  data_year = f\"data_{year}\"\n",
    "  missing_percentage = data_dict[data_year].isnull().sum() * 100 / len(data_dict[data_year])\n",
    "  missing_percentage = missing_percentage.rename(f'Missing Percentage in {year} (%)')\n",
    "  print(missing_percentage.sort_values(ascending=False))\n",
    "  print('='*90)\n"
   ]
  },
  {
   "cell_type": "markdown",
   "id": "3669a3de",
   "metadata": {},
   "source": [
    "## Feature Engineering\n",
    "- Drop the 'Electric Mile Range' and 'Region' columns.\n",
    "- Compute the vehicle's age by subtracting 'Model Year' from 'Date'.\n",
    "- Convert categorical values (e.g., '≥4' in 'Number of Vehicles Registered at the Same Address') to numerical format."
   ]
  },
  {
   "cell_type": "code",
   "execution_count": null,
   "id": "66f45034",
   "metadata": {},
   "outputs": [],
   "source": [
    "\n",
    "# Drop irrelevant columns\n",
    "data.drop(['Electric Mile Range', 'Region'], axis=1, inplace=True)\n",
    "\n",
    "# Calculate the vehicle's age\n",
    "data[\"Year Diff\"] = data['Date'] - data['Model Year']\n",
    "\n",
    "# Standardizing categorical values\n",
    "data.loc[data['Number of Vehicles Registered at the Same Address'] == '≥4', ['Number of Vehicles Registered at the Same Address']] = '4'\n"
   ]
  },
  {
   "cell_type": "markdown",
   "id": "62717fbb",
   "metadata": {},
   "source": [
    "## Exploratory Data Analysis (EDA)\n",
    "### 1. Distribution of Fuel Type\n",
    "Visualizing the count of vehicles by fuel type."
   ]
  },
  {
   "cell_type": "code",
   "execution_count": null,
   "id": "a9142c3e",
   "metadata": {},
   "outputs": [],
   "source": [
    "\n",
    "# Count of vehicles by fuel type\n",
    "data.groupby('Fuel Type').size().sort_values(ascending=False).plot(kind='barh', color=sns.palettes.mpl_palette('Dark2'))\n",
    "plt.gca().spines[['top', 'right']].set_visible(False)\n",
    "plt.title('Fuel Type Count')\n",
    "plt.xlabel('Count')\n",
    "plt.ylabel('Fuel Type')\n",
    "plt.show()\n"
   ]
  },
  {
   "cell_type": "markdown",
   "id": "e75d7414",
   "metadata": {},
   "source": [
    "### 2. Average Vehicle Population by Fuel Type"
   ]
  },
  {
   "cell_type": "code",
   "execution_count": null,
   "id": "3e211d22",
   "metadata": {},
   "outputs": [],
   "source": [
    "\n",
    "# Mean value of the vehicle population for each fuel type\n",
    "data.groupby('Fuel Type')['Vehicle Population'].mean().sort_values(ascending=False).plot(kind='barh', color=sns.palettes.mpl_palette('Dark2'))\n",
    "plt.gca().spines[['top', 'right']].set_visible(False)\n",
    "plt.title('Mean Vehicle Population by Fuel Type')\n",
    "plt.xlabel('Mean Vehicle Population')\n",
    "plt.ylabel('Fuel Type')\n",
    "plt.show()\n"
   ]
  },
  {
   "cell_type": "markdown",
   "id": "282d5453",
   "metadata": {},
   "source": [
    "### 3. Distribution of Vehicles Registered at the Same Address"
   ]
  },
  {
   "cell_type": "code",
   "execution_count": null,
   "id": "719110c4",
   "metadata": {},
   "outputs": [],
   "source": [
    "\n",
    "# Count of vehicles registered at the same address\n",
    "data.groupby('Number of Vehicles Registered at the Same Address').size().plot(kind='barh', color=sns.palettes.mpl_palette('Dark2'))\n",
    "plt.gca().spines[['top', 'right']].set_visible(False)\n",
    "plt.xlabel('Count')\n",
    "plt.ylabel('Number of Vehicles Registered at the Same Address')\n",
    "plt.title('Number of Vehicles Registered at the Same Address')\n",
    "plt.show()\n"
   ]
  },
  {
   "cell_type": "markdown",
   "id": "f393e90f",
   "metadata": {},
   "source": [
    "## One-Hot Encoding\n",
    "Convert categorical features to numerical using one-hot encoding."
   ]
  },
  {
   "cell_type": "code",
   "execution_count": null,
   "id": "dca1a3cb",
   "metadata": {},
   "outputs": [],
   "source": [
    "\n",
    "def Onehotencoding(df):\n",
    "    # One-Hot Encode categorical columns\n",
    "    categorical_cols = df.select_dtypes(exclude=np.number).columns\n",
    "    df_encoded = pd.get_dummies(df, columns=categorical_cols, drop_first=True)\n",
    "\n",
    "    # Separate features and target variable\n",
    "    X = df_encoded.drop('Vehicle Population', axis=1)  # Features\n",
    "    y = df_encoded['Vehicle Population']  # Target variable\n",
    "    return X, y\n"
   ]
  },
  {
   "cell_type": "markdown",
   "id": "0be8ab72",
   "metadata": {},
   "source": [
    "## KNN Imputation\n",
    "Handle missing values using K-Nearest Neighbors (KNN) imputation."
   ]
  },
  {
   "cell_type": "code",
   "execution_count": null,
   "id": "3625c820",
   "metadata": {},
   "outputs": [],
   "source": [
    "def KNNimputation(X_encoded):\n",
    "    # Separate numerical and categorical columns\n",
    "    numerical_cols = X_encoded.select_dtypes(include=np.number).columns\n",
    "    categorical_cols = [col for col in X_encoded.columns if col not in numerical_cols]\n",
    "\n",
    "    scaler = StandardScaler()\n",
    "    X_scaled = scaler.fit_transform(X_encoded[numerical_cols])\n",
    "\n",
    "    X_scaled_df = pd.DataFrame(X_scaled, columns=numerical_cols)\n",
    "\n",
    "\n",
    "    imputer = KNNImputer(n_neighbors=min(3, X_encoded.shape[0]))\n",
    "    X_imputed_array = imputer.fit_transform(X_encoded)  # Impute on full dataset (numerical + categorical)\n",
    "    X_imputed_df = pd.DataFrame(X_imputed_array, columns=X_encoded.columns)\n",
    "\n",
    "    X_imputed_df[numerical_cols] = scaler.inverse_transform(X_imputed_df[numerical_cols])\n",
    "    print(X_imputed_df)\n",
    "\n",
    "    X_imputed_df[categorical_cols] = X_imputed_df[categorical_cols].round().astype(int)\n",
    "\n",
    "    return X_imputed_df"
   ]
  },
  {
   "cell_type": "markdown",
   "id": "74e73124",
   "metadata": {},
   "source": [
    "## Data Processing Pipeline\n",
    "Combines one-hot encoding and KNN imputation into a single function."
   ]
  },
  {
   "cell_type": "code",
   "execution_count": null,
   "id": "5fc95af8",
   "metadata": {},
   "outputs": [],
   "source": [
    "\n",
    "def Processing(df):\n",
    "    X, y = Onehotencoding(df)\n",
    "    processed_data = KNNimputation(X)\n",
    "    processed_data = processed_data.reset_index(drop=True)\n",
    "    y = y.reset_index(drop=True)\n",
    "    y_df = pd.DataFrame(y, columns=['Vehicle Population'])\n",
    "    return pd.concat([processed_data, y_df], axis=1)\n"
   ]
  },
  {
   "cell_type": "code",
   "execution_count": null,
   "id": "f71a08e3",
   "metadata": {},
   "outputs": [],
   "source": [
    "processed_df_2019 = Processing(data_dict['data_2019'])\n",
    "processed_df_2020 = Processing(data_dict['data_2020'])\n",
    "processed_df_2021 = Processing(data_dict['data_2021'])\n",
    "processed_df_2022 = Processing(data_dict['data_2022'])\n",
    "processed_df_2023 = Processing(data_dict['data_2023'])\n",
    "processed__dataset = pd.concat([processed_df_2019, processed_df_2020, processed_df_2021, processed_df_2022, processed_df_2023], axis=0, ignore_index=True)"
   ]
  },
  {
   "cell_type": "code",
   "execution_count": null,
   "id": "7a9e313a",
   "metadata": {},
   "outputs": [],
   "source": [
    "# save the dataset to a csv file\n",
    "processed__dataset.to_csv('processed_dataset.csv', index=False)"
   ]
  },
  {
   "cell_type": "markdown",
   "id": "a89688a2",
   "metadata": {},
   "source": [
    "## Handling Data Imbalance\n",
    "Using SMOTE to balance the dataset before modeling."
   ]
  },
  {
   "cell_type": "code",
   "execution_count": null,
   "id": "040a6e4c",
   "metadata": {},
   "outputs": [],
   "source": [
    "\n",
    "# Placeholder for SMOTE handling (not yet implemented in the provided code)\n",
    "# smote = SMOTE(random_state=42)\n",
    "# X_resampled, y_resampled = smote.fit_resample(X, y)\n"
   ]
  }
 ],
 "metadata": {
  "language_info": {
   "name": "python"
  }
 },
 "nbformat": 4,
 "nbformat_minor": 5
}
