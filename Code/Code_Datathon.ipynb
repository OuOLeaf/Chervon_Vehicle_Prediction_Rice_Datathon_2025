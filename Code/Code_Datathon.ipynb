{
 "cells": [
  {
   "cell_type": "code",
   "execution_count": 1,
   "metadata": {},
   "outputs": [],
   "source": [
    "import numpy as np\n",
    "import pandas as pd\n",
    "from sklearn.preprocessing import OneHotEncoder\n",
    "from sklearn.metrics import mean_squared_error"
   ]
  },
  {
   "cell_type": "code",
   "execution_count": 2,
   "metadata": {},
   "outputs": [
    {
     "data": {
      "text/html": [
       "<div>\n",
       "<style scoped>\n",
       "    .dataframe tbody tr th:only-of-type {\n",
       "        vertical-align: middle;\n",
       "    }\n",
       "\n",
       "    .dataframe tbody tr th {\n",
       "        vertical-align: top;\n",
       "    }\n",
       "\n",
       "    .dataframe thead th {\n",
       "        text-align: right;\n",
       "    }\n",
       "</style>\n",
       "<table border=\"1\" class=\"dataframe\">\n",
       "  <thead>\n",
       "    <tr style=\"text-align: right;\">\n",
       "      <th></th>\n",
       "      <th>Date</th>\n",
       "      <th>Vehicle Category</th>\n",
       "      <th>GVWR Class</th>\n",
       "      <th>Fuel Type</th>\n",
       "      <th>Model Year</th>\n",
       "      <th>Fuel Technology</th>\n",
       "      <th>Electric Mile Range</th>\n",
       "      <th>Number of Vehicles Registered at the Same Address</th>\n",
       "      <th>Region</th>\n",
       "      <th>Vehicle Population</th>\n",
       "    </tr>\n",
       "  </thead>\n",
       "  <tbody>\n",
       "    <tr>\n",
       "      <th>0</th>\n",
       "      <td>2019</td>\n",
       "      <td>P</td>\n",
       "      <td>Not Applicable</td>\n",
       "      <td>Gasoline</td>\n",
       "      <td>2020.0</td>\n",
       "      <td>ICE</td>\n",
       "      <td>Not Applicable</td>\n",
       "      <td>≥4</td>\n",
       "      <td>Statewide</td>\n",
       "      <td>395883</td>\n",
       "    </tr>\n",
       "    <tr>\n",
       "      <th>1</th>\n",
       "      <td>2020</td>\n",
       "      <td>P</td>\n",
       "      <td>Not Applicable</td>\n",
       "      <td>Gasoline</td>\n",
       "      <td>2020.0</td>\n",
       "      <td>ICE</td>\n",
       "      <td>Not Applicable</td>\n",
       "      <td>1</td>\n",
       "      <td>Statewide</td>\n",
       "      <td>370954</td>\n",
       "    </tr>\n",
       "    <tr>\n",
       "      <th>2</th>\n",
       "      <td>2021</td>\n",
       "      <td>P</td>\n",
       "      <td>Not Applicable</td>\n",
       "      <td>Gasoline</td>\n",
       "      <td>2020.0</td>\n",
       "      <td>ICE</td>\n",
       "      <td>Not Applicable</td>\n",
       "      <td>1</td>\n",
       "      <td>Statewide</td>\n",
       "      <td>349406</td>\n",
       "    </tr>\n",
       "    <tr>\n",
       "      <th>3</th>\n",
       "      <td>2019</td>\n",
       "      <td>P</td>\n",
       "      <td>Not Applicable</td>\n",
       "      <td>Gasoline</td>\n",
       "      <td>2019.0</td>\n",
       "      <td>ICE</td>\n",
       "      <td>Not Applicable</td>\n",
       "      <td>≥4</td>\n",
       "      <td>Statewide</td>\n",
       "      <td>348475</td>\n",
       "    </tr>\n",
       "    <tr>\n",
       "      <th>4</th>\n",
       "      <td>2019</td>\n",
       "      <td>P</td>\n",
       "      <td>Not Applicable</td>\n",
       "      <td>Gasoline</td>\n",
       "      <td>2018.0</td>\n",
       "      <td>ICE</td>\n",
       "      <td>Not Applicable</td>\n",
       "      <td>≥4</td>\n",
       "      <td>Statewide</td>\n",
       "      <td>333296</td>\n",
       "    </tr>\n",
       "  </tbody>\n",
       "</table>\n",
       "</div>"
      ],
      "text/plain": [
       "   Date Vehicle Category      GVWR Class Fuel Type  Model Year  \\\n",
       "0  2019                P  Not Applicable  Gasoline      2020.0   \n",
       "1  2020                P  Not Applicable  Gasoline      2020.0   \n",
       "2  2021                P  Not Applicable  Gasoline      2020.0   \n",
       "3  2019                P  Not Applicable  Gasoline      2019.0   \n",
       "4  2019                P  Not Applicable  Gasoline      2018.0   \n",
       "\n",
       "  Fuel Technology Electric Mile Range  \\\n",
       "0             ICE      Not Applicable   \n",
       "1             ICE      Not Applicable   \n",
       "2             ICE      Not Applicable   \n",
       "3             ICE      Not Applicable   \n",
       "4             ICE      Not Applicable   \n",
       "\n",
       "  Number of Vehicles Registered at the Same Address     Region  \\\n",
       "0                                                ≥4  Statewide   \n",
       "1                                                 1  Statewide   \n",
       "2                                                 1  Statewide   \n",
       "3                                                ≥4  Statewide   \n",
       "4                                                ≥4  Statewide   \n",
       "\n",
       "   Vehicle Population  \n",
       "0              395883  \n",
       "1              370954  \n",
       "2              349406  \n",
       "3              348475  \n",
       "4              333296  "
      ]
     },
     "execution_count": 2,
     "metadata": {},
     "output_type": "execute_result"
    }
   ],
   "source": [
    "file_path = \"training.xlsx\"\n",
    "df = pd.read_excel(file_path)\n",
    "df.head()"
   ]
  },
  {
   "cell_type": "code",
   "execution_count": 3,
   "metadata": {},
   "outputs": [],
   "source": [
    "columns_to_drop = [\"Region\"]\n",
    "df_cleaned = df.drop(columns=columns_to_drop)\n",
    "df_cleaned = df_cleaned[df_cleaned['Fuel Type'] != 'Unknown'].reset_index(drop=True)\n",
    "df_cleaned = df_cleaned[df_cleaned['Number of Vehicles Registered at the Same Address'] != 'Unknown'].reset_index(drop=True)\n",
    "df_cleaned[\"Year Diff\"] = df_cleaned[\"Date\"] - df_cleaned[\"Model Year\"]\n",
    "df_cleaned = df_cleaned[~df_cleaned['Year Diff'].isna()].reset_index(drop=True)\n",
    "df_cleaned[\"Number of Vehicles Registered at the Same Address\"] = df_cleaned[\"Number of Vehicles Registered at the Same Address\"].replace(\"≥4\", 4)\n",
    "df_cleaned[\"GVWR Class\"] = df_cleaned[\"GVWR Class\"].astype(str)\n",
    "def categorize(row):\n",
    "    if row == \"Not Applicable\":\n",
    "        return \"Not Applicable\"\n",
    "    elif row == \"Unknown\":\n",
    "        return \"Unknown\"\n",
    "    elif \"miles\" in row:\n",
    "        return \"Mile Range\"\n",
    "    else:\n",
    "        return \"Other\"\n",
    "df_cleaned[\"Electric Mile Encoded\"] = df_cleaned[\"Electric Mile Range\"].apply(categorize)"
   ]
  },
  {
   "cell_type": "code",
   "execution_count": 4,
   "metadata": {},
   "outputs": [],
   "source": [
    "def encode_columns(dataframe, columns, drop_original=True):\n",
    "    encoder = OneHotEncoder(sparse_output=False)\n",
    "    encoded_df = dataframe.copy()\n",
    "    \n",
    "    for column in columns:\n",
    "        encoded_data = encoder.fit_transform(encoded_df[[column]])\n",
    "        \n",
    "        encoded_columns = pd.DataFrame(\n",
    "            encoded_data, \n",
    "            columns=encoder.get_feature_names_out([column]),\n",
    "            index=encoded_df.index\n",
    "        )\n",
    "        \n",
    "        encoded_df = pd.concat([encoded_df, encoded_columns], axis=1)\n",
    "        \n",
    "        if drop_original:\n",
    "            encoded_df = encoded_df.drop(columns=[column])\n",
    "    \n",
    "    return encoded_df\n"
   ]
  },
  {
   "cell_type": "code",
   "execution_count": 5,
   "metadata": {},
   "outputs": [],
   "source": [
    "columns_to_encode = ['Fuel Type', 'Vehicle Category', 'Fuel Technology', 'GVWR Class', 'Electric Mile Encoded']\n",
    "\n",
    "df_cleaned_encoded = encode_columns(df_cleaned, columns=columns_to_encode)\n",
    "\n",
    "selected_columns = [col for col in df_cleaned_encoded.columns if col.startswith('Fuel Type') or col.startswith('Electric Mile Encoded') or col.startswith('Vehicle Category') or col.startswith('GVWR Class') or col.startswith('Fuel Technology') \\\n",
    "                    or col in ['Year Diff', 'Number of Vehicles Registered at the Same Address']]\n",
    "\n",
    "X = df_cleaned_encoded[selected_columns]\n",
    "y = df_cleaned[\"Vehicle Population\"]"
   ]
  },
  {
   "cell_type": "code",
   "execution_count": 6,
   "metadata": {},
   "outputs": [
    {
     "data": {
      "text/html": [
       "<style>#sk-container-id-1 {color: black;background-color: white;}#sk-container-id-1 pre{padding: 0;}#sk-container-id-1 div.sk-toggleable {background-color: white;}#sk-container-id-1 label.sk-toggleable__label {cursor: pointer;display: block;width: 100%;margin-bottom: 0;padding: 0.3em;box-sizing: border-box;text-align: center;}#sk-container-id-1 label.sk-toggleable__label-arrow:before {content: \"▸\";float: left;margin-right: 0.25em;color: #696969;}#sk-container-id-1 label.sk-toggleable__label-arrow:hover:before {color: black;}#sk-container-id-1 div.sk-estimator:hover label.sk-toggleable__label-arrow:before {color: black;}#sk-container-id-1 div.sk-toggleable__content {max-height: 0;max-width: 0;overflow: hidden;text-align: left;background-color: #f0f8ff;}#sk-container-id-1 div.sk-toggleable__content pre {margin: 0.2em;color: black;border-radius: 0.25em;background-color: #f0f8ff;}#sk-container-id-1 input.sk-toggleable__control:checked~div.sk-toggleable__content {max-height: 200px;max-width: 100%;overflow: auto;}#sk-container-id-1 input.sk-toggleable__control:checked~label.sk-toggleable__label-arrow:before {content: \"▾\";}#sk-container-id-1 div.sk-estimator input.sk-toggleable__control:checked~label.sk-toggleable__label {background-color: #d4ebff;}#sk-container-id-1 div.sk-label input.sk-toggleable__control:checked~label.sk-toggleable__label {background-color: #d4ebff;}#sk-container-id-1 input.sk-hidden--visually {border: 0;clip: rect(1px 1px 1px 1px);clip: rect(1px, 1px, 1px, 1px);height: 1px;margin: -1px;overflow: hidden;padding: 0;position: absolute;width: 1px;}#sk-container-id-1 div.sk-estimator {font-family: monospace;background-color: #f0f8ff;border: 1px dotted black;border-radius: 0.25em;box-sizing: border-box;margin-bottom: 0.5em;}#sk-container-id-1 div.sk-estimator:hover {background-color: #d4ebff;}#sk-container-id-1 div.sk-parallel-item::after {content: \"\";width: 100%;border-bottom: 1px solid gray;flex-grow: 1;}#sk-container-id-1 div.sk-label:hover label.sk-toggleable__label {background-color: #d4ebff;}#sk-container-id-1 div.sk-serial::before {content: \"\";position: absolute;border-left: 1px solid gray;box-sizing: border-box;top: 0;bottom: 0;left: 50%;z-index: 0;}#sk-container-id-1 div.sk-serial {display: flex;flex-direction: column;align-items: center;background-color: white;padding-right: 0.2em;padding-left: 0.2em;position: relative;}#sk-container-id-1 div.sk-item {position: relative;z-index: 1;}#sk-container-id-1 div.sk-parallel {display: flex;align-items: stretch;justify-content: center;background-color: white;position: relative;}#sk-container-id-1 div.sk-item::before, #sk-container-id-1 div.sk-parallel-item::before {content: \"\";position: absolute;border-left: 1px solid gray;box-sizing: border-box;top: 0;bottom: 0;left: 50%;z-index: -1;}#sk-container-id-1 div.sk-parallel-item {display: flex;flex-direction: column;z-index: 1;position: relative;background-color: white;}#sk-container-id-1 div.sk-parallel-item:first-child::after {align-self: flex-end;width: 50%;}#sk-container-id-1 div.sk-parallel-item:last-child::after {align-self: flex-start;width: 50%;}#sk-container-id-1 div.sk-parallel-item:only-child::after {width: 0;}#sk-container-id-1 div.sk-dashed-wrapped {border: 1px dashed gray;margin: 0 0.4em 0.5em 0.4em;box-sizing: border-box;padding-bottom: 0.4em;background-color: white;}#sk-container-id-1 div.sk-label label {font-family: monospace;font-weight: bold;display: inline-block;line-height: 1.2em;}#sk-container-id-1 div.sk-label-container {text-align: center;}#sk-container-id-1 div.sk-container {/* jupyter's `normalize.less` sets `[hidden] { display: none; }` but bootstrap.min.css set `[hidden] { display: none !important; }` so we also need the `!important` here to be able to override the default hidden behavior on the sphinx rendered scikit-learn.org. See: https://github.com/scikit-learn/scikit-learn/issues/21755 */display: inline-block !important;position: relative;}#sk-container-id-1 div.sk-text-repr-fallback {display: none;}</style><div id=\"sk-container-id-1\" class=\"sk-top-container\"><div class=\"sk-text-repr-fallback\"><pre>XGBRegressor(base_score=None, booster=None, callbacks=None,\n",
       "             colsample_bylevel=None, colsample_bynode=None,\n",
       "             colsample_bytree=0.7, device=None, early_stopping_rounds=None,\n",
       "             enable_categorical=False, eval_metric=None, feature_types=None,\n",
       "             gamma=None, grow_policy=None, importance_type=None,\n",
       "             interaction_constraints=None, learning_rate=0.1, max_bin=None,\n",
       "             max_cat_threshold=None, max_cat_to_onehot=None,\n",
       "             max_delta_step=None, max_depth=8, max_leaves=None,\n",
       "             min_child_weight=None, missing=nan, monotone_constraints=None,\n",
       "             multi_strategy=None, n_estimators=100, n_jobs=None,\n",
       "             num_parallel_tree=None, random_state=42, ...)</pre><b>In a Jupyter environment, please rerun this cell to show the HTML representation or trust the notebook. <br />On GitHub, the HTML representation is unable to render, please try loading this page with nbviewer.org.</b></div><div class=\"sk-container\" hidden><div class=\"sk-item\"><div class=\"sk-estimator sk-toggleable\"><input class=\"sk-toggleable__control sk-hidden--visually\" id=\"sk-estimator-id-1\" type=\"checkbox\" checked><label for=\"sk-estimator-id-1\" class=\"sk-toggleable__label sk-toggleable__label-arrow\">XGBRegressor</label><div class=\"sk-toggleable__content\"><pre>XGBRegressor(base_score=None, booster=None, callbacks=None,\n",
       "             colsample_bylevel=None, colsample_bynode=None,\n",
       "             colsample_bytree=0.7, device=None, early_stopping_rounds=None,\n",
       "             enable_categorical=False, eval_metric=None, feature_types=None,\n",
       "             gamma=None, grow_policy=None, importance_type=None,\n",
       "             interaction_constraints=None, learning_rate=0.1, max_bin=None,\n",
       "             max_cat_threshold=None, max_cat_to_onehot=None,\n",
       "             max_delta_step=None, max_depth=8, max_leaves=None,\n",
       "             min_child_weight=None, missing=nan, monotone_constraints=None,\n",
       "             multi_strategy=None, n_estimators=100, n_jobs=None,\n",
       "             num_parallel_tree=None, random_state=42, ...)</pre></div></div></div></div></div>"
      ],
      "text/plain": [
       "XGBRegressor(base_score=None, booster=None, callbacks=None,\n",
       "             colsample_bylevel=None, colsample_bynode=None,\n",
       "             colsample_bytree=0.7, device=None, early_stopping_rounds=None,\n",
       "             enable_categorical=False, eval_metric=None, feature_types=None,\n",
       "             gamma=None, grow_policy=None, importance_type=None,\n",
       "             interaction_constraints=None, learning_rate=0.1, max_bin=None,\n",
       "             max_cat_threshold=None, max_cat_to_onehot=None,\n",
       "             max_delta_step=None, max_depth=8, max_leaves=None,\n",
       "             min_child_weight=None, missing=nan, monotone_constraints=None,\n",
       "             multi_strategy=None, n_estimators=100, n_jobs=None,\n",
       "             num_parallel_tree=None, random_state=42, ...)"
      ]
     },
     "execution_count": 6,
     "metadata": {},
     "output_type": "execute_result"
    }
   ],
   "source": [
    "from xgboost import XGBRegressor\n",
    "\n",
    "model_type = 1\n",
    "regressor = XGBRegressor(n_estimators=100, learning_rate=0.1, max_depth=8, random_state=42, colsample_bytree = 0.7, subsample =.7)\n",
    "\n",
    "regressor.fit(X, y)"
   ]
  },
  {
   "cell_type": "code",
   "execution_count": 7,
   "metadata": {},
   "outputs": [
    {
     "data": {
      "text/plain": [
       "6043.282342851861"
      ]
     },
     "execution_count": 7,
     "metadata": {},
     "output_type": "execute_result"
    }
   ],
   "source": [
    "test_data = pd.read_excel(\"scoring.xlsx\")\n",
    "\n",
    "X_test = test_data.copy() \n",
    "\n",
    "X_test.loc[:, \"Year Diff\"] = X_test[\"Date\"] - X_test[\"Model Year\"]\n",
    "X_test.loc[:, \"Year Diff\"] = X_test[\"Year Diff\"].fillna(18)\n",
    "X_test[\"Number of Vehicles Registered at the Same Address\"] = X_test[\"Number of Vehicles Registered at the Same Address\"].replace(\"≥4\", 4)\n",
    "X_test[\"GVWR Class\"] = X_test[\"GVWR Class\"].astype(str)\n",
    "X_test[\"Electric Mile Encoded\"] = X_test[\"Electric Mile Range\"].apply(categorize)\n",
    "\n",
    "columns_to_encode = ['Fuel Type', 'Vehicle Category', 'Fuel Technology', 'GVWR Class', 'Electric Mile Encoded']\n",
    "\n",
    "X_test_encode = encode_columns(X_test, columns=columns_to_encode)\n",
    "X_test = X_test_encode[selected_columns]\n",
    "y_test = test_data[\"Vehicle Population\"]\n",
    "y_pred = regressor.predict(X_test)\n",
    "\n",
    "mse = mean_squared_error(y_test, y_pred)\n",
    "\n",
    "rmse = np.sqrt(mse)\n",
    "\n",
    "rmse"
   ]
  },
  {
   "cell_type": "code",
   "execution_count": 8,
   "metadata": {},
   "outputs": [],
   "source": [
    "y_pred_series = pd.Series(y_pred, name=\"Predicted\")\n",
    "\n",
    "view_data = pd.concat([test_data, y_pred_series], axis=1)"
   ]
  },
  {
   "cell_type": "code",
   "execution_count": 9,
   "metadata": {},
   "outputs": [
    {
     "name": "stdout",
     "output_type": "stream",
     "text": [
      "                                              Feature  Importance\n",
      "12                                 Vehicle Category_P    0.168759\n",
      "22                                Fuel Technology_ICE    0.119731\n",
      "35               Electric Mile Encoded_Not Applicable    0.090262\n",
      "4                                  Fuel Type_Gasoline    0.089837\n",
      "11                                Vehicle Category_MH    0.072040\n",
      "23                               Fuel Technology_PHEV    0.067154\n",
      "9                                 Vehicle Category_BT    0.041215\n",
      "7                                  Vehicle Category_B    0.040443\n",
      "10                                Vehicle Category_MC    0.038423\n",
      "32                          GVWR Class_Not Applicable    0.032644\n",
      "8                                 Vehicle Category_BS    0.027435\n",
      "6                               Fuel Type_Natural Gas    0.026789\n",
      "34                   Electric Mile Encoded_Mile Range    0.024544\n",
      "1                                           Year Diff    0.021413\n",
      "14                                Vehicle Category_T2    0.017389\n",
      "24                                       GVWR Class_1    0.016643\n",
      "26                                       GVWR Class_3    0.015707\n",
      "2                                    Fuel Type_Diesel    0.015455\n",
      "15                                Vehicle Category_T3    0.015143\n",
      "13                                Vehicle Category_T1    0.012074\n",
      "18                                Vehicle Category_T6    0.008408\n",
      "25                                       GVWR Class_2    0.007274\n",
      "33                                 GVWR Class_Unknown    0.006460\n",
      "17                                Vehicle Category_T5    0.006226\n",
      "0   Number of Vehicles Registered at the Same Address    0.005399\n",
      "16                                Vehicle Category_T4    0.005361\n",
      "20                                Fuel Technology_BEV    0.003599\n",
      "19                                Vehicle Category_T7    0.001237\n",
      "36                      Electric Mile Encoded_Unknown    0.000959\n",
      "31                                       GVWR Class_8    0.000813\n",
      "28                                       GVWR Class_5    0.000319\n",
      "3                                  Fuel Type_Electric    0.000270\n",
      "30                                       GVWR Class_7    0.000245\n",
      "29                                       GVWR Class_6    0.000182\n",
      "5                                  Fuel Type_Hydrogen    0.000070\n",
      "21                               Fuel Technology_FCEV    0.000050\n",
      "27                                       GVWR Class_4    0.000030\n"
     ]
    }
   ],
   "source": [
    "feature_importance = pd.DataFrame({\n",
    "    \"Feature\": X_test.columns,\n",
    "    \"Importance\": regressor.feature_importances_\n",
    "})\n",
    "\n",
    "feature_importance = feature_importance.sort_values(by=\"Importance\", ascending=False)\n",
    "\n",
    "print(feature_importance)"
   ]
  },
  {
   "cell_type": "code",
   "execution_count": 10,
   "metadata": {},
   "outputs": [
    {
     "data": {
      "image/png": "[encoded data removed]",
      "text/plain": [
       "<Figure size 648x504 with 1 Axes>"
      ]
     },
     "metadata": {
      "needs_background": "light"
     },
     "output_type": "display_data"
    }
   ],
   "source": [
    "from xgboost import plot_importance\n",
    "import matplotlib.pyplot as plt\n",
    "\n",
    "fig, ax = plt.subplots(figsize=(9, 7))\n",
    "plot_importance(regressor, importance_type=\"gain\", max_num_features=10, ax=ax)\n",
    "ax.grid(False, axis=\"y\")  \n",
    "ax.set_ylabel('')\n",
    "\n",
    "for text in ax.texts:\n",
    "    text.set_visible(False)"
   ]
  },
  {
   "cell_type": "code",
   "execution_count": 11,
   "metadata": {},
   "outputs": [],
   "source": [
    "regressor.save_model(\"xgboost_model.json\")"
   ]
  }
 ],
 "metadata": {
  "kernelspec": {
   "display_name": "Python 3",
   "language": "python",
   "name": "python3"
  },
  "language_info": {
   "codemirror_mode": {
    "name": "ipython",
    "version": 3
   },
   "file_extension": ".py",
   "mimetype": "text/x-python",
   "name": "python",
   "nbconvert_exporter": "python",
   "pygments_lexer": "ipython3",
   "version": "3.10.2"
  }
 },
 "nbformat": 4,
 "nbformat_minor": 2
}
